{
  "nbformat": 4,
  "nbformat_minor": 0,
  "metadata": {
    "colab": {
      "provenance": [],
      "authorship_tag": "ABX9TyPtkw6YkyYQuDdnKvWgfnvM",
      "include_colab_link": true
    },
    "kernelspec": {
      "name": "python3",
      "display_name": "Python 3"
    },
    "language_info": {
      "name": "python"
    }
  },
  "cells": [
    {
      "cell_type": "markdown",
      "metadata": {
        "id": "view-in-github",
        "colab_type": "text"
      },
      "source": [
        "<a href=\"https://colab.research.google.com/github/YudaAnanda2435/latihan-varibel-1/blob/main/Untitled0.ipynb\" target=\"_parent\"><img src=\"https://colab.research.google.com/assets/colab-badge.svg\" alt=\"Open In Colab\"/></a>"
      ]
    },
    {
      "cell_type": "code",
      "execution_count": 7,
      "metadata": {
        "colab": {
          "base_uri": "https://localhost:8080/"
        },
        "id": "YBnjz_CEJ-bD",
        "outputId": "ed26e814-fdb1-484f-fbbd-516db279a88b"
      },
      "outputs": [
        {
          "output_type": "stream",
          "name": "stdout",
          "text": [
            "nama: Yuda Ananda\n",
            "kelas: TI22E\n",
            "Nim: 20220040178\n",
            "tugas: dasar pemerograman sesi 4\n",
            "X = 16 = 00010000\n",
            "Y = 32 = 00100000 \n",
            "\n",
            "[and]\n",
            "X & Y = 0\n",
            "00010000 ^ 00100000 = 00000000 \n",
            "\n",
            "[or]\n",
            "X | Y = 48\n",
            "00010000 | 00100000 = 00110000 \n",
            "\n",
            "[not]\n",
            "~X ~Y = -17 -33\n",
            "00010000 00100000 = -0010001 -0100001 \n",
            "\n"
          ]
        }
      ],
      "source": [
        "nama = 'Yuda Ananda'\n",
        "kelas = 'TI22E'\n",
        "Nim = '20220040178'\n",
        "tugas = 'dasar pemerograman sesi 4'\n",
        "\n",
        "print('nama:', nama)\n",
        "print('kelas:', kelas)\n",
        "print('Nim:', Nim)\n",
        "print('tugas:', tugas)\n",
        "\n",
        "X = 16\n",
        "Y = 32\n",
        "print('X =', X, '=', format(X, '08b')) \n",
        "print('Y =', Y, '=', format(Y, '08b'), '\\n')\n",
        "\n",
        "print('[and]') \n",
        "print('X & Y =', X & Y) \n",
        "print(format(X, '08b'), '^', format(Y, '08b'), '=', format(X & Y, '08b'), '\\n')\n",
        "\n",
        "print('[or]') \n",
        "print('X | Y =', X | Y) \n",
        "print(format(X, '08b'), '|', format(Y, '08b'), '=', format(X | Y, '08b'), '\\n')\n",
        "\n",
        "print('[not]') \n",
        "print('~X ~Y =', ~X, ~Y) \n",
        "print('' + format(X, '08b'), '' + format(Y, '08b'), '=', format(~X, '08b'), format(~Y, '08b'), '\\n')"
      ]
    },
    {
      "cell_type": "code",
      "execution_count": null,
      "metadata": {
        "id": "oGcwdWnKLNkI"
      },
      "outputs": [],
      "source": []
    }
  ]
}