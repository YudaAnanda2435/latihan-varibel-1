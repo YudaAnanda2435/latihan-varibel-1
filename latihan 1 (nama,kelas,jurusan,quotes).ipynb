{
 "cells": [
  {
   "cell_type": "code",
   "execution_count": 2,
   "id": "65571062",
   "metadata": {},
   "outputs": [
    {
     "name": "stdout",
     "output_type": "stream",
     "text": [
      "Yuda Ananda (TI22E) ,  Teknik Informatika , qoutes: jangan pernah memikirkan hasil, teruslah berproses\n",
      "\n",
      "Tipe dari nama: <class 'str'>\n",
      "Tipe dari kelas: <class 'str'>\n",
      "Tipe dari jurusan: <class 'str'>\n",
      "Tipe dari quotes: <class 'str'>\n"
     ]
    }
   ],
   "source": [
    "#biodata mahasiswa\n",
    "\n",
    "nama = 'Yuda Ananda'\n",
    "kelas = 'TI22E'\n",
    "jurusan = 'Teknik Informatika'\n",
    "quotes = 'jangan pernah memikirkan hasil, teruslah berproses'\n",
    "\n",
    "print(nama, '(' + kelas + ')', ', ', jurusan, ', qoutes:', quotes)\n",
    "print('\\nTipe dari nama:', type(nama))\n",
    "print('Tipe dari kelas:', type(kelas))\n",
    "print('Tipe dari jurusan:', type(jurusan))\n",
    "print('Tipe dari quotes:', type(quotes))"
   ]
  }
 ],
 "metadata": {
  "kernelspec": {
   "display_name": "Python 3 (ipykernel)",
   "language": "python",
   "name": "python3"
  },
  "language_info": {
   "codemirror_mode": {
    "name": "ipython",
    "version": 3
   },
   "file_extension": ".py",
   "mimetype": "text/x-python",
   "name": "python",
   "nbconvert_exporter": "python",
   "pygments_lexer": "ipython3",
   "version": "3.9.12"
  }
 },
 "nbformat": 4,
 "nbformat_minor": 5
}
